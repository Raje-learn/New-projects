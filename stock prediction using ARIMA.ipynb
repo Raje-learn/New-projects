{
 "cells": [
  {
   "cell_type": "code",
   "execution_count": 1,
   "id": "31c39a45",
   "metadata": {},
   "outputs": [],
   "source": [
    "import numpy as np\n",
    "import seaborn as sns\n",
    "import pandas as pd\n",
    "import matplotlib.pyplot as plt"
   ]
  },
  {
   "cell_type": "code",
   "execution_count": 2,
   "id": "689d2635",
   "metadata": {},
   "outputs": [],
   "source": [
    "data=pd.read_excel(\"E:\\\\data_import\\\\Myproject\\\\transvision\\\\regression_dataset.xlsx\")"
   ]
  },
  {
   "cell_type": "code",
   "execution_count": 3,
   "id": "d852d0de",
   "metadata": {},
   "outputs": [
    {
     "data": {
      "text/html": [
       "<div>\n",
       "<style scoped>\n",
       "    .dataframe tbody tr th:only-of-type {\n",
       "        vertical-align: middle;\n",
       "    }\n",
       "\n",
       "    .dataframe tbody tr th {\n",
       "        vertical-align: top;\n",
       "    }\n",
       "\n",
       "    .dataframe thead th {\n",
       "        text-align: right;\n",
       "    }\n",
       "</style>\n",
       "<table border=\"1\" class=\"dataframe\">\n",
       "  <thead>\n",
       "    <tr style=\"text-align: right;\">\n",
       "      <th></th>\n",
       "      <th>date</th>\n",
       "      <th>symbol</th>\n",
       "      <th>open</th>\n",
       "      <th>close</th>\n",
       "      <th>low</th>\n",
       "      <th>high</th>\n",
       "      <th>volume</th>\n",
       "    </tr>\n",
       "  </thead>\n",
       "  <tbody>\n",
       "    <tr>\n",
       "      <th>0</th>\n",
       "      <td>2010-01-04 00:00:00</td>\n",
       "      <td>A</td>\n",
       "      <td>31.389999</td>\n",
       "      <td>31.300001</td>\n",
       "      <td>31.130000</td>\n",
       "      <td>31.630001</td>\n",
       "      <td>3815500.0</td>\n",
       "    </tr>\n",
       "    <tr>\n",
       "      <th>1</th>\n",
       "      <td>2010-01-05 00:00:00</td>\n",
       "      <td>A</td>\n",
       "      <td>31.209999</td>\n",
       "      <td>30.960001</td>\n",
       "      <td>30.760000</td>\n",
       "      <td>31.220001</td>\n",
       "      <td>4186000.0</td>\n",
       "    </tr>\n",
       "    <tr>\n",
       "      <th>2</th>\n",
       "      <td>2010-01-06 00:00:00</td>\n",
       "      <td>A</td>\n",
       "      <td>30.850001</td>\n",
       "      <td>30.850001</td>\n",
       "      <td>30.760000</td>\n",
       "      <td>31.000001</td>\n",
       "      <td>3243700.0</td>\n",
       "    </tr>\n",
       "    <tr>\n",
       "      <th>3</th>\n",
       "      <td>2010-01-07 00:00:00</td>\n",
       "      <td>A</td>\n",
       "      <td>30.780001</td>\n",
       "      <td>30.809999</td>\n",
       "      <td>30.500000</td>\n",
       "      <td>30.820001</td>\n",
       "      <td>3095100.0</td>\n",
       "    </tr>\n",
       "    <tr>\n",
       "      <th>4</th>\n",
       "      <td>2010-01-08 00:00:00</td>\n",
       "      <td>A</td>\n",
       "      <td>30.640000</td>\n",
       "      <td>30.800000</td>\n",
       "      <td>30.399999</td>\n",
       "      <td>30.850001</td>\n",
       "      <td>3733900.0</td>\n",
       "    </tr>\n",
       "  </tbody>\n",
       "</table>\n",
       "</div>"
      ],
      "text/plain": [
       "                  date symbol       open      close        low       high  \\\n",
       "0  2010-01-04 00:00:00      A  31.389999  31.300001  31.130000  31.630001   \n",
       "1  2010-01-05 00:00:00      A  31.209999  30.960001  30.760000  31.220001   \n",
       "2  2010-01-06 00:00:00      A  30.850001  30.850001  30.760000  31.000001   \n",
       "3  2010-01-07 00:00:00      A  30.780001  30.809999  30.500000  30.820001   \n",
       "4  2010-01-08 00:00:00      A  30.640000  30.800000  30.399999  30.850001   \n",
       "\n",
       "      volume  \n",
       "0  3815500.0  \n",
       "1  4186000.0  \n",
       "2  3243700.0  \n",
       "3  3095100.0  \n",
       "4  3733900.0  "
      ]
     },
     "execution_count": 3,
     "metadata": {},
     "output_type": "execute_result"
    }
   ],
   "source": [
    "data.head()"
   ]
  },
  {
   "cell_type": "code",
   "execution_count": 4,
   "id": "dc6f17ed",
   "metadata": {},
   "outputs": [
    {
     "data": {
      "text/plain": [
       "Index(['date', 'symbol', 'open', 'close', 'low', 'high', 'volume'], dtype='object')"
      ]
     },
     "execution_count": 4,
     "metadata": {},
     "output_type": "execute_result"
    }
   ],
   "source": [
    "data.keys()"
   ]
  },
  {
   "cell_type": "code",
   "execution_count": 5,
   "id": "9700244f",
   "metadata": {},
   "outputs": [],
   "source": [
    "data.drop(['symbol', 'open', 'low', 'high', 'volume'],axis=1,inplace=True)  #Stock price in close time is enough for predicting the stock price"
   ]
  },
  {
   "cell_type": "code",
   "execution_count": 6,
   "id": "a0d9e062",
   "metadata": {},
   "outputs": [
    {
     "data": {
      "text/html": [
       "<div>\n",
       "<style scoped>\n",
       "    .dataframe tbody tr th:only-of-type {\n",
       "        vertical-align: middle;\n",
       "    }\n",
       "\n",
       "    .dataframe tbody tr th {\n",
       "        vertical-align: top;\n",
       "    }\n",
       "\n",
       "    .dataframe thead th {\n",
       "        text-align: right;\n",
       "    }\n",
       "</style>\n",
       "<table border=\"1\" class=\"dataframe\">\n",
       "  <thead>\n",
       "    <tr style=\"text-align: right;\">\n",
       "      <th></th>\n",
       "      <th>date</th>\n",
       "      <th>close</th>\n",
       "    </tr>\n",
       "  </thead>\n",
       "  <tbody>\n",
       "    <tr>\n",
       "      <th>0</th>\n",
       "      <td>2010-01-04 00:00:00</td>\n",
       "      <td>31.300001</td>\n",
       "    </tr>\n",
       "    <tr>\n",
       "      <th>1</th>\n",
       "      <td>2010-01-05 00:00:00</td>\n",
       "      <td>30.960001</td>\n",
       "    </tr>\n",
       "    <tr>\n",
       "      <th>2</th>\n",
       "      <td>2010-01-06 00:00:00</td>\n",
       "      <td>30.850001</td>\n",
       "    </tr>\n",
       "    <tr>\n",
       "      <th>3</th>\n",
       "      <td>2010-01-07 00:00:00</td>\n",
       "      <td>30.809999</td>\n",
       "    </tr>\n",
       "    <tr>\n",
       "      <th>4</th>\n",
       "      <td>2010-01-08 00:00:00</td>\n",
       "      <td>30.800000</td>\n",
       "    </tr>\n",
       "  </tbody>\n",
       "</table>\n",
       "</div>"
      ],
      "text/plain": [
       "                  date      close\n",
       "0  2010-01-04 00:00:00  31.300001\n",
       "1  2010-01-05 00:00:00  30.960001\n",
       "2  2010-01-06 00:00:00  30.850001\n",
       "3  2010-01-07 00:00:00  30.809999\n",
       "4  2010-01-08 00:00:00  30.800000"
      ]
     },
     "execution_count": 6,
     "metadata": {},
     "output_type": "execute_result"
    }
   ],
   "source": [
    "data.head()"
   ]
  },
  {
   "cell_type": "code",
   "execution_count": 7,
   "id": "56e9b9cf",
   "metadata": {},
   "outputs": [
    {
     "name": "stdout",
     "output_type": "stream",
     "text": [
      "<class 'pandas.core.frame.DataFrame'>\n",
      "RangeIndex: 1765 entries, 0 to 1764\n",
      "Data columns (total 2 columns):\n",
      " #   Column  Non-Null Count  Dtype  \n",
      "---  ------  --------------  -----  \n",
      " 0   date    1764 non-null   object \n",
      " 1   close   1762 non-null   float64\n",
      "dtypes: float64(1), object(1)\n",
      "memory usage: 27.7+ KB\n"
     ]
    }
   ],
   "source": [
    "data.info()"
   ]
  },
  {
   "cell_type": "code",
   "execution_count": 8,
   "id": "e9315bf2",
   "metadata": {},
   "outputs": [
    {
     "data": {
      "text/plain": [
       "(1765, 2)"
      ]
     },
     "execution_count": 8,
     "metadata": {},
     "output_type": "execute_result"
    }
   ],
   "source": [
    "data.shape"
   ]
  },
  {
   "cell_type": "code",
   "execution_count": 9,
   "id": "5e194a86",
   "metadata": {},
   "outputs": [
    {
     "data": {
      "text/plain": [
       "date     1\n",
       "close    3\n",
       "dtype: int64"
      ]
     },
     "execution_count": 9,
     "metadata": {},
     "output_type": "execute_result"
    }
   ],
   "source": [
    "data.isnull().sum()"
   ]
  },
  {
   "cell_type": "code",
   "execution_count": 10,
   "id": "27374848",
   "metadata": {},
   "outputs": [],
   "source": [
    "data=data.fillna(method='ffill')"
   ]
  },
  {
   "cell_type": "code",
   "execution_count": 11,
   "id": "00d1f922",
   "metadata": {},
   "outputs": [
    {
     "data": {
      "text/plain": [
       "date     0\n",
       "close    0\n",
       "dtype: int64"
      ]
     },
     "execution_count": 11,
     "metadata": {},
     "output_type": "execute_result"
    }
   ],
   "source": [
    "data.isnull().sum()"
   ]
  },
  {
   "cell_type": "code",
   "execution_count": 12,
   "id": "ed83dc22",
   "metadata": {},
   "outputs": [
    {
     "data": {
      "text/html": [
       "<div>\n",
       "<style scoped>\n",
       "    .dataframe tbody tr th:only-of-type {\n",
       "        vertical-align: middle;\n",
       "    }\n",
       "\n",
       "    .dataframe tbody tr th {\n",
       "        vertical-align: top;\n",
       "    }\n",
       "\n",
       "    .dataframe thead th {\n",
       "        text-align: right;\n",
       "    }\n",
       "</style>\n",
       "<table border=\"1\" class=\"dataframe\">\n",
       "  <thead>\n",
       "    <tr style=\"text-align: right;\">\n",
       "      <th></th>\n",
       "      <th>close</th>\n",
       "    </tr>\n",
       "  </thead>\n",
       "  <tbody>\n",
       "    <tr>\n",
       "      <th>count</th>\n",
       "      <td>1765.000000</td>\n",
       "    </tr>\n",
       "    <tr>\n",
       "      <th>mean</th>\n",
       "      <td>42.544578</td>\n",
       "    </tr>\n",
       "    <tr>\n",
       "      <th>std</th>\n",
       "      <td>7.569196</td>\n",
       "    </tr>\n",
       "    <tr>\n",
       "      <th>min</th>\n",
       "      <td>26.970000</td>\n",
       "    </tr>\n",
       "    <tr>\n",
       "      <th>25%</th>\n",
       "      <td>37.439999</td>\n",
       "    </tr>\n",
       "    <tr>\n",
       "      <th>50%</th>\n",
       "      <td>41.770000</td>\n",
       "    </tr>\n",
       "    <tr>\n",
       "      <th>75%</th>\n",
       "      <td>46.430000</td>\n",
       "    </tr>\n",
       "    <tr>\n",
       "      <th>max</th>\n",
       "      <td>60.930000</td>\n",
       "    </tr>\n",
       "  </tbody>\n",
       "</table>\n",
       "</div>"
      ],
      "text/plain": [
       "             close\n",
       "count  1765.000000\n",
       "mean     42.544578\n",
       "std       7.569196\n",
       "min      26.970000\n",
       "25%      37.439999\n",
       "50%      41.770000\n",
       "75%      46.430000\n",
       "max      60.930000"
      ]
     },
     "execution_count": 12,
     "metadata": {},
     "output_type": "execute_result"
    }
   ],
   "source": [
    "data.describe()"
   ]
  },
  {
   "cell_type": "code",
   "execution_count": 13,
   "id": "4ca66f45",
   "metadata": {
    "scrolled": true
   },
   "outputs": [
    {
     "data": {
      "text/html": [
       "<div>\n",
       "<style scoped>\n",
       "    .dataframe tbody tr th:only-of-type {\n",
       "        vertical-align: middle;\n",
       "    }\n",
       "\n",
       "    .dataframe tbody tr th {\n",
       "        vertical-align: top;\n",
       "    }\n",
       "\n",
       "    .dataframe thead th {\n",
       "        text-align: right;\n",
       "    }\n",
       "</style>\n",
       "<table border=\"1\" class=\"dataframe\">\n",
       "  <thead>\n",
       "    <tr style=\"text-align: right;\">\n",
       "      <th></th>\n",
       "      <th>date</th>\n",
       "      <th>close</th>\n",
       "    </tr>\n",
       "  </thead>\n",
       "  <tbody>\n",
       "    <tr>\n",
       "      <th>0</th>\n",
       "      <td>2010-01-04 00:00:00</td>\n",
       "      <td>31.300001</td>\n",
       "    </tr>\n",
       "    <tr>\n",
       "      <th>1</th>\n",
       "      <td>2010-01-05 00:00:00</td>\n",
       "      <td>30.960001</td>\n",
       "    </tr>\n",
       "    <tr>\n",
       "      <th>2</th>\n",
       "      <td>2010-01-06 00:00:00</td>\n",
       "      <td>30.850001</td>\n",
       "    </tr>\n",
       "    <tr>\n",
       "      <th>3</th>\n",
       "      <td>2010-01-07 00:00:00</td>\n",
       "      <td>30.809999</td>\n",
       "    </tr>\n",
       "    <tr>\n",
       "      <th>4</th>\n",
       "      <td>2010-01-08 00:00:00</td>\n",
       "      <td>30.800000</td>\n",
       "    </tr>\n",
       "  </tbody>\n",
       "</table>\n",
       "</div>"
      ],
      "text/plain": [
       "                  date      close\n",
       "0  2010-01-04 00:00:00  31.300001\n",
       "1  2010-01-05 00:00:00  30.960001\n",
       "2  2010-01-06 00:00:00  30.850001\n",
       "3  2010-01-07 00:00:00  30.809999\n",
       "4  2010-01-08 00:00:00  30.800000"
      ]
     },
     "execution_count": 13,
     "metadata": {},
     "output_type": "execute_result"
    }
   ],
   "source": [
    "data.head()"
   ]
  },
  {
   "cell_type": "markdown",
   "id": "d7b2643f",
   "metadata": {},
   "source": [
    "# Visualize the data"
   ]
  },
  {
   "cell_type": "code",
   "execution_count": 14,
   "id": "20de2447",
   "metadata": {},
   "outputs": [
    {
     "data": {
      "text/plain": [
       "<AxesSubplot:>"
      ]
     },
     "execution_count": 14,
     "metadata": {},
     "output_type": "execute_result"
    },
    {
     "data": {
      "image/png": "[encoded data removed]",
      "text/plain": [
       "<Figure size 432x288 with 1 Axes>"
      ]
     },
     "metadata": {
      "needs_background": "light"
     },
     "output_type": "display_data"
    }
   ],
   "source": [
    "data.plot()"
   ]
  },
  {
   "cell_type": "code",
   "execution_count": 15,
   "id": "39afee5d",
   "metadata": {},
   "outputs": [
    {
     "data": {
      "image/png": "[encoded data removed]",
      "text/plain": [
       "<Figure size 720x432 with 1 Axes>"
      ]
     },
     "metadata": {
      "needs_background": "light"
     },
     "output_type": "display_data"
    }
   ],
   "source": [
    "plt.figure(figsize=(10,6))\n",
    "plt.grid(True)\n",
    "plt.xlabel('date')\n",
    "plt.ylabel('close')\n",
    "plt.plot(data['close'])\n",
    "plt.title('Stock market prediction using time Series')\n",
    "plt.show()\n"
   ]
  },
  {
   "cell_type": "code",
   "execution_count": 16,
   "id": "3631a3a3",
   "metadata": {},
   "outputs": [
    {
     "data": {
      "text/plain": [
       "<AxesSubplot:ylabel='Density'>"
      ]
     },
     "execution_count": 16,
     "metadata": {},
     "output_type": "execute_result"
    },
    {
     "data": {
      "image/png": "[encoded data removed]",
      "text/plain": [
       "<Figure size 432x288 with 1 Axes>"
      ]
     },
     "metadata": {
      "needs_background": "light"
     },
     "output_type": "display_data"
    }
   ],
   "source": [
    "#Distribution of the dataset\n",
    "data_close=data['close']\n",
    "data_close.plot(kind=\"kde\")   #it is a seasonal dataset..bcoz the variation is move upward and downward like that "
   ]
  },
  {
   "cell_type": "markdown",
   "id": "c687d2ba",
   "metadata": {},
   "source": [
    "# Dicky-Fuller test"
   ]
  },
  {
   "cell_type": "code",
   "execution_count": 17,
   "id": "50d759a8",
   "metadata": {},
   "outputs": [],
   "source": [
    "# Check whether the data is stationary or not..we use Argumented Dicky fuller test\n",
    "from statsmodels.tsa.stattools import adfuller"
   ]
  },
  {
   "cell_type": "code",
   "execution_count": 18,
   "id": "641dcbf2",
   "metadata": {},
   "outputs": [],
   "source": [
    "test_result=adfuller(data['close'])"
   ]
  },
  {
   "cell_type": "code",
   "execution_count": 19,
   "id": "8c86333a",
   "metadata": {},
   "outputs": [
    {
     "data": {
      "text/plain": [
       "(-2.2372248265744368,\n",
       " 0.19301336672626795,\n",
       " 10,\n",
       " 1754,\n",
       " {'1%': -3.434083692100666,\n",
       "  '5%': -2.8631892171754747,\n",
       "  '10%': -2.5676479940036065},\n",
       " 4287.864921462674)"
      ]
     },
     "execution_count": 19,
     "metadata": {},
     "output_type": "execute_result"
    }
   ],
   "source": [
    "test_result  #it gives 4 different values"
   ]
  },
  {
   "cell_type": "code",
   "execution_count": 20,
   "id": "fd4b44e9",
   "metadata": {},
   "outputs": [],
   "source": [
    "#null hypothesis refers to the data set is not stationary\n",
    "#Alternate hypothesis refers to the data is stationary\n",
    "def adfuller_test(stock):\n",
    "    result=adfuller(stock)\n",
    "    labels=['ADF test staistic','p-value','No.of Lags used',\"No.of Observations used\"]\n",
    "    for value,label in zip(result,labels):\n",
    "        print(label+ ':' +str(value))\n",
    "    if(result[1]<=0.05):   #when the p-value is less\n",
    "        print('strong evidence against null hypothesis, reject the null hypothesis.Data has no unit root and it is stationary')\n",
    "    else:\n",
    "        print('weak evidences against null hypothesis,time series has a unit root,indicating it is non-stationary')"
   ]
  },
  {
   "cell_type": "code",
   "execution_count": 21,
   "id": "7d18dfbf",
   "metadata": {},
   "outputs": [
    {
     "name": "stdout",
     "output_type": "stream",
     "text": [
      "ADF test staistic:-2.2372248265744368\n",
      "p-value:0.19301336672626795\n",
      "No.of Lags used:10\n",
      "No.of Observations used:1754\n",
      "weak evidences against null hypothesis,time series has a unit root,indicating it is non-stationary\n"
     ]
    }
   ],
   "source": [
    "adfuller_test(data['close'])   #the p-value is greater than than 0.05 so we accept the null hypothesis"
   ]
  },
  {
   "cell_type": "code",
   "execution_count": 22,
   "id": "b3068ab9",
   "metadata": {},
   "outputs": [],
   "source": [
    "    #the data is non stationary..so we have to do make it stationary"
   ]
  },
  {
   "cell_type": "markdown",
   "id": "e1c8986e",
   "metadata": {},
   "source": [
    "# Differencing"
   ]
  },
  {
   "cell_type": "code",
   "execution_count": 23,
   "id": "e83877d2",
   "metadata": {},
   "outputs": [],
   "source": [
    "data['close first difference']=data['close']-data['close'].shift(1)  #the position of data changed in below position"
   ]
  },
  {
   "cell_type": "code",
   "execution_count": 24,
   "id": "edafef13",
   "metadata": {},
   "outputs": [],
   "source": [
    "data['seasonal first difference']=data['close']-data['close'].shift(12)   #12 months per year..it is a seasonal dataset..it will change in every month/week according to the market"
   ]
  },
  {
   "cell_type": "code",
   "execution_count": 25,
   "id": "d8c76ad6",
   "metadata": {},
   "outputs": [
    {
     "data": {
      "text/html": [
       "<div>\n",
       "<style scoped>\n",
       "    .dataframe tbody tr th:only-of-type {\n",
       "        vertical-align: middle;\n",
       "    }\n",
       "\n",
       "    .dataframe tbody tr th {\n",
       "        vertical-align: top;\n",
       "    }\n",
       "\n",
       "    .dataframe thead th {\n",
       "        text-align: right;\n",
       "    }\n",
       "</style>\n",
       "<table border=\"1\" class=\"dataframe\">\n",
       "  <thead>\n",
       "    <tr style=\"text-align: right;\">\n",
       "      <th></th>\n",
       "      <th>date</th>\n",
       "      <th>close</th>\n",
       "      <th>close first difference</th>\n",
       "      <th>seasonal first difference</th>\n",
       "    </tr>\n",
       "  </thead>\n",
       "  <tbody>\n",
       "    <tr>\n",
       "      <th>0</th>\n",
       "      <td>2010-01-04 00:00:00</td>\n",
       "      <td>31.300001</td>\n",
       "      <td>NaN</td>\n",
       "      <td>NaN</td>\n",
       "    </tr>\n",
       "    <tr>\n",
       "      <th>1</th>\n",
       "      <td>2010-01-05 00:00:00</td>\n",
       "      <td>30.960001</td>\n",
       "      <td>-0.340000</td>\n",
       "      <td>NaN</td>\n",
       "    </tr>\n",
       "    <tr>\n",
       "      <th>2</th>\n",
       "      <td>2010-01-06 00:00:00</td>\n",
       "      <td>30.850001</td>\n",
       "      <td>-0.110000</td>\n",
       "      <td>NaN</td>\n",
       "    </tr>\n",
       "    <tr>\n",
       "      <th>3</th>\n",
       "      <td>2010-01-07 00:00:00</td>\n",
       "      <td>30.809999</td>\n",
       "      <td>-0.040002</td>\n",
       "      <td>NaN</td>\n",
       "    </tr>\n",
       "    <tr>\n",
       "      <th>4</th>\n",
       "      <td>2010-01-08 00:00:00</td>\n",
       "      <td>30.800000</td>\n",
       "      <td>-0.009999</td>\n",
       "      <td>NaN</td>\n",
       "    </tr>\n",
       "  </tbody>\n",
       "</table>\n",
       "</div>"
      ],
      "text/plain": [
       "                  date      close  close first difference  \\\n",
       "0  2010-01-04 00:00:00  31.300001                     NaN   \n",
       "1  2010-01-05 00:00:00  30.960001               -0.340000   \n",
       "2  2010-01-06 00:00:00  30.850001               -0.110000   \n",
       "3  2010-01-07 00:00:00  30.809999               -0.040002   \n",
       "4  2010-01-08 00:00:00  30.800000               -0.009999   \n",
       "\n",
       "   seasonal first difference  \n",
       "0                        NaN  \n",
       "1                        NaN  \n",
       "2                        NaN  \n",
       "3                        NaN  \n",
       "4                        NaN  "
      ]
     },
     "execution_count": 25,
     "metadata": {},
     "output_type": "execute_result"
    }
   ],
   "source": [
    "data.head()"
   ]
  },
  {
   "cell_type": "code",
   "execution_count": 26,
   "id": "532bafba",
   "metadata": {},
   "outputs": [
    {
     "name": "stdout",
     "output_type": "stream",
     "text": [
      "ADF test staistic:-6.08259595337521\n",
      "p-value:1.0831974785422393e-07\n",
      "No.of Lags used:25\n",
      "No.of Observations used:1727\n",
      "strong evidence against null hypothesis, reject the null hypothesis.Data has no unit root and it is stationary\n"
     ]
    }
   ],
   "source": [
    "#again test dicky fuller test\n",
    "adfuller_test(data['seasonal first difference'].dropna())"
   ]
  },
  {
   "cell_type": "code",
   "execution_count": 27,
   "id": "dc698f56",
   "metadata": {},
   "outputs": [],
   "source": [
    "#now I am getting p value is less than 0.05..so it indicates that it reject the null hypothesis and the dataset has stationary"
   ]
  },
  {
   "cell_type": "code",
   "execution_count": 28,
   "id": "0f862675",
   "metadata": {},
   "outputs": [
    {
     "data": {
      "text/plain": [
       "<Figure size 1152x720 with 0 Axes>"
      ]
     },
     "execution_count": 28,
     "metadata": {},
     "output_type": "execute_result"
    },
    {
     "data": {
      "image/png": "[encoded data removed]",
      "text/plain": [
       "<Figure size 432x288 with 1 Axes>"
      ]
     },
     "metadata": {
      "needs_background": "light"
     },
     "output_type": "display_data"
    },
    {
     "data": {
      "text/plain": [
       "<Figure size 1152x720 with 0 Axes>"
      ]
     },
     "metadata": {},
     "output_type": "display_data"
    }
   ],
   "source": [
    "data['seasonal first difference'].plot()\n",
    "plt.figure(figsize=(16,10))"
   ]
  },
  {
   "cell_type": "markdown",
   "id": "68ee62bf",
   "metadata": {},
   "source": [
    "# Auto Regressive Model"
   ]
  },
  {
   "cell_type": "code",
   "execution_count": 29,
   "id": "292bc07b",
   "metadata": {},
   "outputs": [],
   "source": [
    "# # Identification of an AR model is often best done with the Partial Auto Correlation Function\n",
    "# #     *For an AR model,the theoretical PACF 'shuts off' past the order of the model.'shuts off ' means that theory in partial autocorrelation\n",
    "# #       are equal to 0 beyond that point.put another way the number of non-zero partial autocorrelation gives the order of the AR model.\n",
    "    \n",
    "# # Identification of MA model is often best than with Auto correlation Function instead of PACF.\n",
    "# #      *For an MA model,the theoretical PACF does not shut off,but instead tapers toward o in some manner.A clearer pattern for an MA model is in the ACF.The ACF will have non-zero autocorrelation only at lags involved in the model.\n",
    "\n",
    "# terms used in ARIMA:\n",
    "#     p-AR model lags\n",
    "#     d-differencing\n",
    "#     q-Moving average order\n",
    "# yt=c+pi1(yt-1)+pi2(yt-2)+..."
   ]
  },
  {
   "cell_type": "code",
   "execution_count": 30,
   "id": "56bef8fa",
   "metadata": {},
   "outputs": [],
   "source": [
    "from statsmodels.graphics.tsaplots import plot_acf,plot_pacf"
   ]
  },
  {
   "cell_type": "code",
   "execution_count": 31,
   "id": "15c436fc",
   "metadata": {},
   "outputs": [
    {
     "data": {
      "image/png": "[encoded data removed]",
      "text/plain": [
       "<Figure size 864x720 with 2 Axes>"
      ]
     },
     "metadata": {
      "needs_background": "light"
     },
     "output_type": "display_data"
    }
   ],
   "source": [
    "fig=plt.figure(figsize=(12,10))\n",
    "axis1=fig.add_subplot(211)\n",
    "fig=plot_acf(data['seasonal first difference'].dropna(),lags=40,ax=axis1)\n",
    "axis2=fig.add_subplot(212)\n",
    "fig=plot_pacf(data['seasonal first difference'].iloc[13:],lags=50,ax=axis2)"
   ]
  },
  {
   "cell_type": "markdown",
   "id": "dfe951ee",
   "metadata": {},
   "source": [
    "# Train Test Split"
   ]
  },
  {
   "cell_type": "code",
   "execution_count": 32,
   "id": "5aba6f5b",
   "metadata": {},
   "outputs": [
    {
     "name": "stdout",
     "output_type": "stream",
     "text": [
      "1412\n",
      "353\n"
     ]
    }
   ],
   "source": [
    "n=int(len(data)*0.8)\n",
    "train=data.close[:n]  #80% of data refers to train and 20% of data refers to test\n",
    "test=data.close[n:]\n",
    "print(len(train))\n",
    "print(len(test))"
   ]
  },
  {
   "cell_type": "code",
   "execution_count": 33,
   "id": "120ce3d8",
   "metadata": {},
   "outputs": [],
   "source": [
    "# for non-seasonal data only we apply ARIMA..but this is seasonal dataset\n",
    "#p=2,d=1(shift 1 time),q=0 or 1\n",
    "from statsmodels.tsa.arima_model import ARIMA"
   ]
  },
  {
   "cell_type": "code",
   "execution_count": 34,
   "id": "e14ddf12",
   "metadata": {
    "scrolled": true
   },
   "outputs": [
    {
     "name": "stderr",
     "output_type": "stream",
     "text": [
      "C:\\Users\\admin\\anaconda3\\lib\\site-packages\\statsmodels\\tsa\\arima_model.py:472: FutureWarning: \n",
      "statsmodels.tsa.arima_model.ARMA and statsmodels.tsa.arima_model.ARIMA have\n",
      "been deprecated in favor of statsmodels.tsa.arima.model.ARIMA (note the .\n",
      "between arima and model) and\n",
      "statsmodels.tsa.SARIMAX. These will be removed after the 0.12 release.\n",
      "\n",
      "statsmodels.tsa.arima.model.ARIMA makes use of the statespace framework and\n",
      "is both well tested and maintained.\n",
      "\n",
      "To silence this warning and continue using ARMA and ARIMA until they are\n",
      "removed, use:\n",
      "\n",
      "import warnings\n",
      "warnings.filterwarnings('ignore', 'statsmodels.tsa.arima_model.ARMA',\n",
      "                        FutureWarning)\n",
      "warnings.filterwarnings('ignore', 'statsmodels.tsa.arima_model.ARIMA',\n",
      "                        FutureWarning)\n",
      "\n",
      "  warnings.warn(ARIMA_DEPRECATION_WARN, FutureWarning)\n",
      "C:\\Users\\admin\\anaconda3\\lib\\site-packages\\statsmodels\\tsa\\arima_model.py:472: FutureWarning: \n",
      "statsmodels.tsa.arima_model.ARMA and statsmodels.tsa.arima_model.ARIMA have\n",
      "been deprecated in favor of statsmodels.tsa.arima.model.ARIMA (note the .\n",
      "between arima and model) and\n",
      "statsmodels.tsa.SARIMAX. These will be removed after the 0.12 release.\n",
      "\n",
      "statsmodels.tsa.arima.model.ARIMA makes use of the statespace framework and\n",
      "is both well tested and maintained.\n",
      "\n",
      "To silence this warning and continue using ARMA and ARIMA until they are\n",
      "removed, use:\n",
      "\n",
      "import warnings\n",
      "warnings.filterwarnings('ignore', 'statsmodels.tsa.arima_model.ARMA',\n",
      "                        FutureWarning)\n",
      "warnings.filterwarnings('ignore', 'statsmodels.tsa.arima_model.ARIMA',\n",
      "                        FutureWarning)\n",
      "\n",
      "  warnings.warn(ARIMA_DEPRECATION_WARN, FutureWarning)\n"
     ]
    }
   ],
   "source": [
    "model=ARIMA(train,order=(2,1,1))\n",
    "results=model.fit(disp=0)"
   ]
  },
  {
   "cell_type": "code",
   "execution_count": 35,
   "id": "ee1edba3",
   "metadata": {},
   "outputs": [
    {
     "data": {
      "text/html": [
       "<table class=\"simpletable\">\n",
       "<caption>ARIMA Model Results</caption>\n",
       "<tr>\n",
       "  <th>Dep. Variable:</th>      <td>D.close</td>     <th>  No. Observations:  </th>   <td>1411</td>   \n",
       "</tr>\n",
       "<tr>\n",
       "  <th>Model:</th>          <td>ARIMA(2, 1, 1)</td>  <th>  Log Likelihood     </th> <td>-1805.412</td>\n",
       "</tr>\n",
       "<tr>\n",
       "  <th>Method:</th>             <td>css-mle</td>     <th>  S.D. of innovations</th>   <td>0.870</td>  \n",
       "</tr>\n",
       "<tr>\n",
       "  <th>Date:</th>          <td>Tue, 10 May 2022</td> <th>  AIC                </th> <td>3620.825</td> \n",
       "</tr>\n",
       "<tr>\n",
       "  <th>Time:</th>              <td>13:30:28</td>     <th>  BIC                </th> <td>3647.085</td> \n",
       "</tr>\n",
       "<tr>\n",
       "  <th>Sample:</th>                <td>1</td>        <th>  HQIC               </th> <td>3630.638</td> \n",
       "</tr>\n",
       "<tr>\n",
       "  <th></th>                       <td> </td>        <th>                     </th>     <td> </td>    \n",
       "</tr>\n",
       "</table>\n",
       "<table class=\"simpletable\">\n",
       "<tr>\n",
       "        <td></td>           <th>coef</th>     <th>std err</th>      <th>z</th>      <th>P>|z|</th>  <th>[0.025</th>    <th>0.975]</th>  \n",
       "</tr>\n",
       "<tr>\n",
       "  <th>const</th>         <td>    0.0057</td> <td>    0.019</td> <td>    0.301</td> <td> 0.764</td> <td>   -0.031</td> <td>    0.042</td>\n",
       "</tr>\n",
       "<tr>\n",
       "  <th>ar.L1.D.close</th> <td>    0.7137</td> <td>    0.104</td> <td>    6.891</td> <td> 0.000</td> <td>    0.511</td> <td>    0.917</td>\n",
       "</tr>\n",
       "<tr>\n",
       "  <th>ar.L2.D.close</th> <td>   -0.0486</td> <td>    0.028</td> <td>   -1.722</td> <td> 0.085</td> <td>   -0.104</td> <td>    0.007</td>\n",
       "</tr>\n",
       "<tr>\n",
       "  <th>ma.L1.D.close</th> <td>   -0.7284</td> <td>    0.101</td> <td>   -7.236</td> <td> 0.000</td> <td>   -0.926</td> <td>   -0.531</td>\n",
       "</tr>\n",
       "</table>\n",
       "<table class=\"simpletable\">\n",
       "<caption>Roots</caption>\n",
       "<tr>\n",
       "    <td></td>   <th>            Real</th>  <th>         Imaginary</th> <th>         Modulus</th>  <th>        Frequency</th>\n",
       "</tr>\n",
       "<tr>\n",
       "  <th>AR.1</th> <td>           1.5688</td> <td>          +0.0000j</td> <td>           1.5688</td> <td>           0.0000</td>\n",
       "</tr>\n",
       "<tr>\n",
       "  <th>AR.2</th> <td>          13.1159</td> <td>          +0.0000j</td> <td>          13.1159</td> <td>           0.0000</td>\n",
       "</tr>\n",
       "<tr>\n",
       "  <th>MA.1</th> <td>           1.3729</td> <td>          +0.0000j</td> <td>           1.3729</td> <td>           0.0000</td>\n",
       "</tr>\n",
       "</table>"
      ],
      "text/plain": [
       "<class 'statsmodels.iolib.summary.Summary'>\n",
       "\"\"\"\n",
       "                             ARIMA Model Results                              \n",
       "==============================================================================\n",
       "Dep. Variable:                D.close   No. Observations:                 1411\n",
       "Model:                 ARIMA(2, 1, 1)   Log Likelihood               -1805.412\n",
       "Method:                       css-mle   S.D. of innovations              0.870\n",
       "Date:                Tue, 10 May 2022   AIC                           3620.825\n",
       "Time:                        13:30:28   BIC                           3647.085\n",
       "Sample:                             1   HQIC                          3630.638\n",
       "                                                                              \n",
       "=================================================================================\n",
       "                    coef    std err          z      P>|z|      [0.025      0.975]\n",
       "---------------------------------------------------------------------------------\n",
       "const             0.0057      0.019      0.301      0.764      -0.031       0.042\n",
       "ar.L1.D.close     0.7137      0.104      6.891      0.000       0.511       0.917\n",
       "ar.L2.D.close    -0.0486      0.028     -1.722      0.085      -0.104       0.007\n",
       "ma.L1.D.close    -0.7284      0.101     -7.236      0.000      -0.926      -0.531\n",
       "                                    Roots                                    \n",
       "=============================================================================\n",
       "                  Real          Imaginary           Modulus         Frequency\n",
       "-----------------------------------------------------------------------------\n",
       "AR.1            1.5688           +0.0000j            1.5688            0.0000\n",
       "AR.2           13.1159           +0.0000j           13.1159            0.0000\n",
       "MA.1            1.3729           +0.0000j            1.3729            0.0000\n",
       "-----------------------------------------------------------------------------\n",
       "\"\"\""
      ]
     },
     "execution_count": 35,
     "metadata": {},
     "output_type": "execute_result"
    }
   ],
   "source": [
    "results.summary()"
   ]
  },
  {
   "cell_type": "code",
   "execution_count": 36,
   "id": "43195efc",
   "metadata": {},
   "outputs": [
    {
     "data": {
      "text/plain": [
       "(array([3.76979058e-04, 0.00000000e+00, 0.00000000e+00, 0.00000000e+00,\n",
       "        0.00000000e+00, 1.88489529e-03, 2.56345760e-02, 4.10153215e-01,\n",
       "        9.27368484e-02, 1.13093718e-03]),\n",
       " array([-14.41643038, -12.53643942, -10.65644846,  -8.7764575 ,\n",
       "         -6.89646654,  -5.01647558,  -3.13648462,  -1.25649366,\n",
       "          0.6234973 ,   2.50348826,   4.38347922]),\n",
       " <BarContainer object of 10 artists>)"
      ]
     },
     "execution_count": 36,
     "metadata": {},
     "output_type": "execute_result"
    },
    {
     "data": {
      "image/png": "[encoded data removed]",
      "text/plain": [
       "<Figure size 1152x288 with 2 Axes>"
      ]
     },
     "metadata": {
      "needs_background": "light"
     },
     "output_type": "display_data"
    }
   ],
   "source": [
    "#plot residual errors-the error between a predicted value and the observed actual value..it shows how well regression model fits in a dataset.\n",
    "residuals=pd.DataFrame(results.resid)\n",
    "fig, (axis1,axis2)=plt.subplots(1,2, figsize=(16,4))\n",
    "axis1.plot(residuals)\n",
    "axis2.hist(residuals,density=True)"
   ]
  },
  {
   "cell_type": "code",
   "execution_count": 37,
   "id": "39430caa",
   "metadata": {},
   "outputs": [
    {
     "data": {
      "image/png": "[encoded data removed]",
      "text/plain": [
       "<Figure size 432x288 with 1 Axes>"
      ]
     },
     "metadata": {
      "needs_background": "light"
     },
     "output_type": "display_data"
    }
   ],
   "source": [
    "#Actual Vs Forecasting\n",
    "results.plot_predict(\n",
    "   start=1,end=60,dynamic=False);"
   ]
  },
  {
   "cell_type": "code",
   "execution_count": 39,
   "id": "378c6645",
   "metadata": {},
   "outputs": [],
   "source": [
    "fc, se, conf = results.forecast(353, alpha=0.05)  # 95% conf  #353-length of test\n",
    "# forecast : ndarray\n",
    "#     Array of out of sample forecasts\n",
    "# stderr : ndarray\n",
    "#     Array of the standard error of the forecasts.\n",
    "# conf_int : ndarray\n",
    "#     2d array of the confidence interval for the forecast\n"
   ]
  },
  {
   "cell_type": "code",
   "execution_count": 40,
   "id": "420f19fa",
   "metadata": {},
   "outputs": [
    {
     "data": {
      "image/png": "[encoded data removed]",
      "text/plain": [
       "<Figure size 1000x500 with 1 Axes>"
      ]
     },
     "metadata": {
      "needs_background": "light"
     },
     "output_type": "display_data"
    }
   ],
   "source": [
    "# Make as pandas series\n",
    "fc_series = pd.Series(fc, index=test.index)\n",
    "lower_series = pd.Series(conf[:, 0], index=test.index)\n",
    "upper_series = pd.Series(conf[:, 1], index=test.index)\n",
    "# Plot the stock price prediction\n",
    "plt.figure(figsize=(10,5), dpi=100)\n",
    "plt.plot(train, label='training data')\n",
    "plt.plot(test, color = 'blue', label='Actual Stock Price')\n",
    "plt.plot(fc_series, color = 'orange',label='Predicted Stock Price')\n",
    "plt.fill_between(lower_series.index, lower_series, upper_series, \n",
    "                 color='k', alpha=.10)\n",
    "plt.title(' Stock Price Prediction')\n",
    "plt.xlabel('Time')\n",
    "plt.ylabel('Stock Price')\n",
    "plt.legend(loc='upper left', fontsize=8)\n",
    "plt.show()"
   ]
  },
  {
   "cell_type": "code",
   "execution_count": 41,
   "id": "0e428347",
   "metadata": {},
   "outputs": [],
   "source": [
    "from sklearn.metrics import mean_absolute_error,mean_squared_error\n",
    "import math"
   ]
  },
  {
   "cell_type": "code",
   "execution_count": 42,
   "id": "ace25947",
   "metadata": {},
   "outputs": [
    {
     "name": "stdout",
     "output_type": "stream",
     "text": [
      "MSE: 16.277843955581435\n",
      "MAE: 3.4899655584805327\n",
      "RMSE: 4.034581013634679\n",
      "MAPE: 0.08160219639739087\n"
     ]
    }
   ],
   "source": [
    "# report performance\n",
    "mse = mean_squared_error(test,fc)\n",
    "print('MSE: '+str(mse))\n",
    "mae = mean_absolute_error(test, fc)\n",
    "print('MAE: '+str(mae))\n",
    "rmse = math.sqrt(mean_squared_error(test, fc))\n",
    "print('RMSE: '+str(rmse))\n",
    "mape = np.mean(np.abs(fc - test)/np.abs(test))\n",
    "print('MAPE: '+str(mape))"
   ]
  },
  {
   "cell_type": "code",
   "execution_count": 43,
   "id": "b2da76da",
   "metadata": {},
   "outputs": [],
   "source": [
    "#With a MAPE of around 7.7%, the model is 92.3% accurate in predicting the next observations."
   ]
  },
  {
   "cell_type": "markdown",
   "id": "743b5457",
   "metadata": {},
   "source": [
    "# Manual testing"
   ]
  },
  {
   "cell_type": "code",
   "execution_count": 44,
   "id": "8abfe549",
   "metadata": {},
   "outputs": [],
   "source": [
    "data=pd.read_excel('E:\\\\data_import\\\\Myproject\\\\transvision\\\\time_series_dataset.xlsx')"
   ]
  },
  {
   "cell_type": "code",
   "execution_count": 45,
   "id": "a9badb05",
   "metadata": {},
   "outputs": [
    {
     "data": {
      "text/html": [
       "<div>\n",
       "<style scoped>\n",
       "    .dataframe tbody tr th:only-of-type {\n",
       "        vertical-align: middle;\n",
       "    }\n",
       "\n",
       "    .dataframe tbody tr th {\n",
       "        vertical-align: top;\n",
       "    }\n",
       "\n",
       "    .dataframe thead th {\n",
       "        text-align: right;\n",
       "    }\n",
       "</style>\n",
       "<table border=\"1\" class=\"dataframe\">\n",
       "  <thead>\n",
       "    <tr style=\"text-align: right;\">\n",
       "      <th></th>\n",
       "      <th>date</th>\n",
       "      <th>volume</th>\n",
       "    </tr>\n",
       "  </thead>\n",
       "  <tbody>\n",
       "    <tr>\n",
       "      <th>0</th>\n",
       "      <td>2010-01-04</td>\n",
       "      <td>9837300</td>\n",
       "    </tr>\n",
       "    <tr>\n",
       "      <th>1</th>\n",
       "      <td>2010-01-05</td>\n",
       "      <td>25212000</td>\n",
       "    </tr>\n",
       "    <tr>\n",
       "      <th>2</th>\n",
       "      <td>2010-01-06</td>\n",
       "      <td>16597900</td>\n",
       "    </tr>\n",
       "    <tr>\n",
       "      <th>3</th>\n",
       "      <td>2010-01-07</td>\n",
       "      <td>14033400</td>\n",
       "    </tr>\n",
       "    <tr>\n",
       "      <th>4</th>\n",
       "      <td>2010-01-08</td>\n",
       "      <td>12760000</td>\n",
       "    </tr>\n",
       "  </tbody>\n",
       "</table>\n",
       "</div>"
      ],
      "text/plain": [
       "        date    volume\n",
       "0 2010-01-04   9837300\n",
       "1 2010-01-05  25212000\n",
       "2 2010-01-06  16597900\n",
       "3 2010-01-07  14033400\n",
       "4 2010-01-08  12760000"
      ]
     },
     "execution_count": 45,
     "metadata": {},
     "output_type": "execute_result"
    }
   ],
   "source": [
    "data.head()"
   ]
  },
  {
   "cell_type": "code",
   "execution_count": 46,
   "id": "331bd242",
   "metadata": {},
   "outputs": [
    {
     "data": {
      "text/plain": [
       "date      0\n",
       "volume    0\n",
       "dtype: int64"
      ]
     },
     "execution_count": 46,
     "metadata": {},
     "output_type": "execute_result"
    }
   ],
   "source": [
    "data.isnull().sum()"
   ]
  },
  {
   "cell_type": "code",
   "execution_count": 47,
   "id": "5a0cf132",
   "metadata": {},
   "outputs": [
    {
     "name": "stdout",
     "output_type": "stream",
     "text": [
      "<class 'pandas.core.frame.DataFrame'>\n",
      "RangeIndex: 1762 entries, 0 to 1761\n",
      "Data columns (total 2 columns):\n",
      " #   Column  Non-Null Count  Dtype         \n",
      "---  ------  --------------  -----         \n",
      " 0   date    1762 non-null   datetime64[ns]\n",
      " 1   volume  1762 non-null   int64         \n",
      "dtypes: datetime64[ns](1), int64(1)\n",
      "memory usage: 27.7 KB\n"
     ]
    }
   ],
   "source": [
    "data.info()"
   ]
  },
  {
   "cell_type": "markdown",
   "id": "169d843c",
   "metadata": {},
   "source": [
    "# Visualize the data"
   ]
  },
  {
   "cell_type": "code",
   "execution_count": null,
   "id": "35b5ffd3",
   "metadata": {},
   "outputs": [],
   "source": [
    "plt.figure(figsize=(10,6))\n",
    "plt.grid(True)\n",
    "plt.xlabel('date')\n",
    "plt.ylabel('volume')\n",
    "plt.plot(data['volume'])\n",
    "plt.title('Stock market prediction using time Series')\n",
    "plt.show()\n"
   ]
  },
  {
   "cell_type": "code",
   "execution_count": null,
   "id": "72741864",
   "metadata": {},
   "outputs": [],
   "source": [
    "# Check whether the data is stationary or not..we use Argumented Dicky fuller test\n",
    "from statsmodels.tsa.stattools import adfuller"
   ]
  },
  {
   "cell_type": "code",
   "execution_count": null,
   "id": "b0b90329",
   "metadata": {},
   "outputs": [],
   "source": [
    "#null hypothesis refers to the data set is not stationary\n",
    "#Alternate hypothesis refers to the data is stationary\n",
    "def adfuller_test(stock):\n",
    "    result=adfuller(stock)\n",
    "    labels=['ADF test staistic','p-value','No.of Lags used',\"No.of Observations used\"]\n",
    "    for value,label in zip(result,labels):\n",
    "        print(label+ ':' +str(value))\n",
    "    if(result[1]<=0.05):   #when the p-value is less\n",
    "        print('strong evidence against null hypothesis, reject the null hypothesis.Data has no unit root and it is stationary')\n",
    "    else:\n",
    "        print('weak evidences against null hypothesis,time series has a unit root,indicating it is non-stationary')"
   ]
  },
  {
   "cell_type": "code",
   "execution_count": null,
   "id": "fdc94834",
   "metadata": {},
   "outputs": [],
   "source": [
    "adfuller_test(data['volume'])   #the p-value is less than 0.05 so we accept the null hypothesisnand it is stationary"
   ]
  },
  {
   "cell_type": "markdown",
   "id": "fa6c36e7",
   "metadata": {},
   "source": [
    "# Auto Regressive Model"
   ]
  },
  {
   "cell_type": "code",
   "execution_count": null,
   "id": "620818a4",
   "metadata": {},
   "outputs": [],
   "source": [
    "from statsmodels.graphics.tsaplots import plot_acf,plot_pacf"
   ]
  },
  {
   "cell_type": "code",
   "execution_count": null,
   "id": "f3270bed",
   "metadata": {},
   "outputs": [],
   "source": [
    "fig=plt.figure(figsize=(12,10))\n",
    "axis1=fig.add_subplot(211)\n",
    "fig=plot_acf(data['volume'],lags=40,ax=axis1)\n",
    "axis2=fig.add_subplot(212)\n",
    "fig=plot_pacf(data['volume'],lags=50,ax=axis2)"
   ]
  },
  {
   "cell_type": "markdown",
   "id": "0a4ab104",
   "metadata": {},
   "source": [
    "# Train test split"
   ]
  },
  {
   "cell_type": "code",
   "execution_count": null,
   "id": "0e6086bd",
   "metadata": {},
   "outputs": [],
   "source": [
    "n=int(len(data)*0.8)\n",
    "train=data.volume[:n]  #80% of data refers to train and 20% of data refers to test\n",
    "test=data.volume[n:]\n",
    "print(len(train))\n",
    "print(len(test))"
   ]
  },
  {
   "cell_type": "code",
   "execution_count": null,
   "id": "abe3a156",
   "metadata": {},
   "outputs": [],
   "source": [
    "# for non-seasonal data only we apply ARIMA..but this is seasonal dataset\n",
    "#p=1,d=1(shift 1 time),q=0 or 1\n",
    "from statsmodels.tsa.arima_model import ARIMA"
   ]
  },
  {
   "cell_type": "code",
   "execution_count": null,
   "id": "6c3edd1a",
   "metadata": {},
   "outputs": [],
   "source": [
    "model=ARIMA(train,order=(1,1,1))\n",
    "results=model.fit(disp=0)"
   ]
  },
  {
   "cell_type": "code",
   "execution_count": null,
   "id": "5a761dc4",
   "metadata": {},
   "outputs": [],
   "source": [
    "results.summary()"
   ]
  },
  {
   "cell_type": "code",
   "execution_count": null,
   "id": "efeb7f65",
   "metadata": {},
   "outputs": [],
   "source": [
    "#plot residual errors-the error between a predicted value and the observed actual value..it shows how well regression model fits in a dataset.\n",
    "residuals=pd.DataFrame(results.resid)\n",
    "fig, (axis1,axis2)=plt.subplots(1,2, figsize=(16,4))\n",
    "axis1.plot(residuals)\n",
    "axis2.hist(residuals,density=True)"
   ]
  },
  {
   "cell_type": "code",
   "execution_count": null,
   "id": "4b97fecd",
   "metadata": {},
   "outputs": [],
   "source": [
    "#Actual Vs Forecasting\n",
    "results.plot_predict(\n",
    "   start=1,end=60,dynamic=False);"
   ]
  },
  {
   "cell_type": "code",
   "execution_count": null,
   "id": "af720198",
   "metadata": {},
   "outputs": [],
   "source": [
    "fc, se, conf = results.forecast(353, alpha=0.05)  # 95% conf  #353-length of test"
   ]
  },
  {
   "cell_type": "code",
   "execution_count": null,
   "id": "72758cfa",
   "metadata": {},
   "outputs": [],
   "source": [
    "# Make as pandas series\n",
    "fc_series = pd.Series(fc, index=test.index)\n",
    "lower_series = pd.Series(conf[:, 0], index=test.index)\n",
    "upper_series = pd.Series(conf[:, 1], index=test.index)\n",
    "# Plot the stock price prediction\n",
    "plt.figure(figsize=(10,5), dpi=100)\n",
    "plt.plot(train, label='training data')\n",
    "plt.plot(test, color = 'blue', label='Actual Stock Price')\n",
    "plt.plot(fc_series, color = 'orange',label='Predicted Stock Price')\n",
    "plt.fill_between(lower_series.index, lower_series, upper_series, \n",
    "                 color='k', alpha=.10)\n",
    "plt.title(' Stock Price Prediction')\n",
    "plt.xlabel('Time')\n",
    "plt.ylabel('Stock Price')\n",
    "plt.legend(loc='upper left', fontsize=8)\n",
    "plt.show()"
   ]
  },
  {
   "cell_type": "code",
   "execution_count": null,
   "id": "d7702565",
   "metadata": {},
   "outputs": [],
   "source": [
    "from sklearn.metrics import mean_absolute_error,mean_squared_error\n",
    "import math"
   ]
  },
  {
   "cell_type": "code",
   "execution_count": null,
   "id": "74b994b4",
   "metadata": {},
   "outputs": [],
   "source": [
    "# report performance\n",
    "mse = mean_squared_error(test,fc)\n",
    "print('MSE: '+str(mse))\n",
    "mae = mean_absolute_error(test, fc)\n",
    "print('MAE: '+str(mae))\n",
    "rmse = math.sqrt(mean_squared_error(test, fc))\n",
    "print('RMSE: '+str(rmse))\n",
    "mape = np.mean(np.abs(fc - test)/np.abs(test))\n",
    "print('MAPE: '+str(mape))"
   ]
  },
  {
   "cell_type": "code",
   "execution_count": null,
   "id": "ad5def66",
   "metadata": {},
   "outputs": [],
   "source": []
  }
 ],
 "metadata": {
  "kernelspec": {
   "display_name": "Python 3",
   "language": "python",
   "name": "python3"
  },
  "language_info": {
   "codemirror_mode": {
    "name": "ipython",
    "version": 3
   },
   "file_extension": ".py",
   "mimetype": "text/x-python",
   "name": "python",
   "nbconvert_exporter": "python",
   "pygments_lexer": "ipython3",
   "version": "3.8.8"
  }
 },
 "nbformat": 4,
 "nbformat_minor": 5
}
